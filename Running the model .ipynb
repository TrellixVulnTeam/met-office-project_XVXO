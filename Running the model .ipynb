{
 "cells": [
  {
   "cell_type": "markdown",
   "id": "1a9de31c",
   "metadata": {},
   "source": [
    "## Importing the relevant modules "
   ]
  },
  {
   "cell_type": "code",
   "execution_count": 1,
   "id": "8a15713b",
   "metadata": {},
   "outputs": [],
   "source": [
    "from model import *\n",
    "sns.set()"
   ]
  },
  {
   "cell_type": "markdown",
   "id": "e1894e18",
   "metadata": {},
   "source": [
    "##  model formation"
   ]
  },
  {
   "cell_type": "code",
   "execution_count": null,
   "id": "0dc07c4c",
   "metadata": {},
   "outputs": [],
   "source": [
    "## Load in clean data into the model \n",
    "name =  \"SRS\"\n",
    "\n",
    "# Intitilise model \n",
    "model = Model(*read_in_data(data_name),name  )\n",
    "# Perform F_score feature selection (optional), can do L1_svm, F score, or Logistic  \n",
    "model.feature_reduction(threshold = 1)\n",
    "\n",
    "# Perform grid search to find broad good paramters \n",
    "model.gridsearch()\n",
    "# Perform fine search and fit the final model \n",
    "C_values = np.linspace(10, 100, 10)\n",
    "Gamma_values= np.linspace(10, 100, 10)\n",
    "model.finesearch(C_values, Gamma_values)\n",
    "\n",
    "# export the model into saved models directory \n",
    "Model_Export(model, model.name)\n"
   ]
  },
  {
   "cell_type": "markdown",
   "id": "bb7f0604",
   "metadata": {},
   "source": [
    "## Can do all those steps with the Run_Model() function\n",
    "it has four paramters: \n",
    "1. C_values: Which C values to use (optional, only used in fine searches)\n",
    "2. Gamma_values: (optional, only used in fine searches)\n",
    "3. feature_reduction: optional, choice between feature selection algorithms \n",
    "4. threshold: only useful for F scoring algorithm  \n",
    "5. search : type of search (grid or fine )\n",
    "6. kernel: type of kernel "
   ]
  },
  {
   "cell_type": "code",
   "execution_count": null,
   "id": "cc30f66a",
   "metadata": {},
   "outputs": [],
   "source": [
    "# For testing you can plot ROC curves: \n",
    "# You need the data names to import (in clean data), the model names to import (in saved models), and the plot names of each \n",
    "# model: \n",
    "\n",
    "data_names = [\"data_all\", \"data all\"]\n",
    "model_names = [\"NOAA_l1svm\", \"data_only_c\"]\n",
    "plot_names = model_names\n",
    "plot_ROC(model_names, plot_names, data_names, test = True)"
   ]
  }
 ],
 "metadata": {
  "kernelspec": {
   "display_name": "Python [conda env:py3-TF2.0] *",
   "language": "python",
   "name": "conda-env-py3-TF2.0-py"
  },
  "language_info": {
   "codemirror_mode": {
    "name": "ipython",
    "version": 3
   },
   "file_extension": ".py",
   "mimetype": "text/x-python",
   "name": "python",
   "nbconvert_exporter": "python",
   "pygments_lexer": "ipython3",
   "version": "3.7.10"
  }
 },
 "nbformat": 4,
 "nbformat_minor": 5
}
