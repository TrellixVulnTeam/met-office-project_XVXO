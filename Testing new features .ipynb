{
 "cells": [
  {
   "cell_type": "code",
   "execution_count": 4,
   "id": "97e51c4f",
   "metadata": {},
   "outputs": [],
   "source": [
    "from model import *\n",
    "from sklearn.datasets import make_classification"
   ]
  },
  {
   "cell_type": "code",
   "execution_count": 5,
   "id": "99871a60",
   "metadata": {},
   "outputs": [],
   "source": [
    "X,y = make_classification()"
   ]
  },
  {
   "cell_type": "code",
   "execution_count": 24,
   "id": "6421ba96",
   "metadata": {},
   "outputs": [
    {
     "data": {
      "text/plain": [
       "95"
      ]
     },
     "execution_count": 24,
     "metadata": {},
     "output_type": "execute_result"
    }
   ],
   "source": [
    "ligma = SVC(C = 0.1, kernel = \"sigmoid\", gamma = 0.1)\n",
    "ligma.fit(X,y)\n",
    "np.sum(ligma.predict(X)==y)"
   ]
  },
  {
   "cell_type": "code",
   "execution_count": 37,
   "id": "c3fbadd6",
   "metadata": {},
   "outputs": [],
   "source": [
    "class Super_Model():\n",
    "\n",
    "\n",
    "    def __init__(self, data_name, model_name): \n",
    "        model = Model(*read_in_data(data_name),\"dummy\")\n",
    "        self.name = model_name\n",
    "        model.feature_reduction(\"Logistic\")\n",
    "        self.X_train, self.X_test, self.y_train, self.y_test, self.feature_index, = model.X_train, model.X_test, model.y_train, model.y_test, model.feature_index\n",
    "    \n",
    "        \n",
    "    def __init__(self, N_models = 10, N_clusters = 750, categorical_start = 3): \n",
    "        categorical_index = [i for i in range(categorical_start, len(self.feature_index))]\n",
    "        X_train, y_train = self.X_train, self.y_train\n",
    "        X_test, y_test  = self.X_test, self.y_test \n",
    "        train = np.column_stack((X_train,y_train))\n",
    "        train_pos = train[train[:,-1] == 1]\n",
    "        train_neg = train[train[:,-1] == 0].copy()\n",
    "        print(train_neg.shape)\n",
    "        Estimators = []\n",
    "        for i in range(N_models):\n",
    "            # Resample and balance the data\n",
    "            np.random.shuffle(train_neg)\n",
    "            train_neg_sample = train_neg[0:N_clusters]\n",
    "            train_new = np.vstack((train_pos, train_neg_sample))\n",
    "            np.random.shuffle(train_new)\n",
    "            X_new = train_new[:,:-1]\n",
    "            y_new = train_new[:,-1]\n",
    "            sm =  SMOTENC(categorical_features = categorical_index, random_state=42)\n",
    "            X_res, y_res = sm.fit_resample(X_new, y_new)\n",
    "            # Create a model\n",
    "            model_small = Model(X_res, X_test, y_res, y_test, self.feature_index, \"model\" + str(i))\n",
    "            model_small.quicksearch()\n",
    "            Estimators.append(model_small.final)\n",
    "            print(f\"finished model {i}\")\n",
    "        ## Create a majority voting model \n",
    "        self.majority_estimators = Estimators \n",
    "            \n",
    "            \n",
    "        \n",
    "            \n",
    "        \n",
    "                \n",
    "            \n",
    "            \n",
    "            \n",
    "            \n",
    "            \n",
    "            \n",
    "            \n",
    "\n",
    "    \n"
   ]
  },
  {
   "cell_type": "code",
   "execution_count": 38,
   "id": "552e8b79",
   "metadata": {},
   "outputs": [
    {
     "name": "stdout",
     "output_type": "stream",
     "text": [
      "(3465, 69)\n",
      "(3465, 27)\n",
      "new feature index:\n",
      "Index(['latitude', 'corr_whole_spot_area', 'number_of_spots', 'Alpha', 'Beta',\n",
      "       'Beta-Gamma-Delta', 'Axx', 'Bxo', 'Cho', 'Csi', 'Dkc', 'Dko', 'Dro',\n",
      "       'Dsc', 'Dsi', 'Dso', 'Eao', 'Ehi', 'Eho', 'Ekc', 'Eko', 'Esi', 'Fac',\n",
      "       'Fsc', 'Hax', 'Hrx', 'Hsx'],\n",
      "      dtype='object')\n"
     ]
    }
   ],
   "source": [
    "testing = Super_Model(\"data_only_b\", \"dummy\")\n"
   ]
  },
  {
   "cell_type": "code",
   "execution_count": 39,
   "id": "02893829",
   "metadata": {},
   "outputs": [
    {
     "name": "stdout",
     "output_type": "stream",
     "text": [
      "(2929, 28)\n"
     ]
    }
   ],
   "source": [
    "testing.Majority_classifier()"
   ]
  }
 ],
 "metadata": {
  "kernelspec": {
   "display_name": "Python [conda env:py3-TF2.0] *",
   "language": "python",
   "name": "conda-env-py3-TF2.0-py"
  },
  "language_info": {
   "codemirror_mode": {
    "name": "ipython",
    "version": 3
   },
   "file_extension": ".py",
   "mimetype": "text/x-python",
   "name": "python",
   "nbconvert_exporter": "python",
   "pygments_lexer": "ipython3",
   "version": "3.7.10"
  }
 },
 "nbformat": 4,
 "nbformat_minor": 5
}
