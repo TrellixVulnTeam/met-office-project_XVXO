{
 "cells": [
  {
   "cell_type": "code",
   "execution_count": 1,
   "id": "48c64b50",
   "metadata": {},
   "outputs": [],
   "source": [
    "import pandas as pd \n",
    "import matplotlib.pyplot as plt\n",
    "import numpy as np\n",
    "import pickle \n",
    "from sklearn import preprocessing\n",
    "from sklearn.model_selection import train_test_split\n",
    "import seaborn as sns"
   ]
  },
  {
   "cell_type": "markdown",
   "id": "e030d906",
   "metadata": {},
   "source": [
    "## NOAA dataset importing and cleaning \n"
   ]
  },
  {
   "cell_type": "code",
   "execution_count": 3,
   "id": "7d6a93e4",
   "metadata": {},
   "outputs": [],
   "source": [
    "# Importing data, removing unecessary columns \n",
    "raw_data = pd.read_csv(\"./Data import/dataset.csv\")\n",
    "raw_data = raw_data.drop(['Unnamed: 0', \"year\", \"month\", \"day\",'original_central_meridian_dist', 'original_latitude','integrated_flux', \"event_starttime\", \"event_peaktime\", \"event_endtime\", 'noaa_ar'], axis = 1)\n",
    "raw_data.matchtime = pd.to_datetime(raw_data.matchtime, format = \"%Y%m%d\")\n"
   ]
  },
  {
   "cell_type": "code",
   "execution_count": 4,
   "id": "f93f2e6e",
   "metadata": {},
   "outputs": [
    {
     "name": "stdout",
     "output_type": "stream",
     "text": [
      "finished querying row 0\n",
      "finished querying row 1000\n",
      "finished querying row 2000\n",
      "finished querying row 3000\n",
      "finished querying row 4000\n",
      "finished querying row 5000\n",
      "finished querying row 6000\n",
      "finished querying row 7000\n",
      "finished querying row 8000\n",
      "finished querying row 9000\n",
      "finished querying row 10000\n",
      "finished querying row 11000\n",
      "finished querying row 12000\n",
      "finished querying row 13000\n",
      "finished querying row 14000\n",
      "finished querying row 15000\n",
      "finished querying row 16000\n",
      "finished querying row 17000\n",
      "finished querying row 18000\n",
      "finished querying row 19000\n",
      "finished querying row 20000\n",
      "finished querying row 21000\n",
      "finished querying row 22000\n"
     ]
    }
   ],
   "source": [
    "## Add Mcintosh evolution \n",
    "\n",
    "# Write query function\n",
    "def query_mcintosh(noaa_ar, date, nhours): \n",
    "    try:\n",
    "        query_date = str(date - pd.DateOffset(hours= nhours))[0:10]\n",
    "        key = raw_data.query(f\"matchtime == '{query_date}' & noaa_ar_no == {noaa_ar}\")[\"mcintosh\"].iloc[0]\n",
    "    except:\n",
    "        key = \"None\"\n",
    "    return key\n",
    "\n",
    "## Query all the datapoints to find all previous Mcintosh classifications \n",
    "mcintosh_evolution = []\n",
    "for i in range(raw_data.shape[0]): \n",
    "    if i%1000 == 0: \n",
    "        print(f\"finished querying row {i}\")\n",
    "    query_row = raw_data.iloc[i]\n",
    "    if query_row[[\"goes_class\"]].isna()[0] == True: \n",
    "        mcintosh_evolution.append(\"None\")\n",
    "    else: \n",
    "        noaa_ar = query_row.noaa_ar_no\n",
    "        date = query_row.matchtime\n",
    "        previous_mcintosh = query_mcintosh(noaa_ar, date, 24)\n",
    "        mcintosh_evolution.append(previous_mcintosh)\n",
    "\n",
    "mcintosh_evolution = pd.Series(mcintosh_evolution)        \n",
    "# Create new column \n",
    "raw_data[\"mcintosh_evolution\"] = mcintosh_evolution + \"-\" + raw_data[\"mcintosh\"]\n"
   ]
  },
  {
   "cell_type": "code",
   "execution_count": 5,
   "id": "e7c92439",
   "metadata": {
    "scrolled": true
   },
   "outputs": [
    {
     "name": "stdout",
     "output_type": "stream",
     "text": [
      "(array(['A', 'B', 'C', 'M', 'X'], dtype=object), array([   6, 3806, 6068,  634,   42], dtype=int64))\n",
      "(array(['B', 'C', 'M', 'X'], dtype=object), array([3806, 6068,  634,   42], dtype=int64))\n",
      "(10550, 14)\n",
      "index                      0\n",
      "noaa_ar_no                 0\n",
      "central_meridian_dist      0\n",
      "latitude                   0\n",
      "carrington_longitude       2\n",
      "corr_whole_spot_area     266\n",
      "mcintosh                   0\n",
      "LL                       266\n",
      "number_of_spots          266\n",
      "greenwich                  0\n",
      "matchtime                  0\n",
      "goes_class_ind             0\n",
      "goes_class                 0\n",
      "mcintosh_evolution         0\n",
      "dtype: int64\n",
      "\n",
      "not a substantial difference in dataset after removing missing data:\n",
      "(array(['B', 'C', 'M', 'X'], dtype=object), array([3663, 5952,  627,   42], dtype=int64))\n",
      "(10284, 15)\n"
     ]
    },
    {
     "data": {
      "text/plain": [
       "level_0                  0\n",
       "index                    0\n",
       "noaa_ar_no               0\n",
       "central_meridian_dist    0\n",
       "latitude                 0\n",
       "carrington_longitude     0\n",
       "corr_whole_spot_area     0\n",
       "mcintosh                 0\n",
       "LL                       0\n",
       "number_of_spots          0\n",
       "greenwich                0\n",
       "matchtime                0\n",
       "goes_class_ind           0\n",
       "goes_class               0\n",
       "mcintosh_evolution       0\n",
       "dtype: int64"
      ]
     },
     "execution_count": 5,
     "metadata": {},
     "output_type": "execute_result"
    }
   ],
   "source": [
    "# Get rid of missing data\n",
    "clean_data = raw_data.dropna(axis = 0, subset=['goes_class']).reset_index()\n",
    "print(np.unique(clean_data.goes_class_ind, return_counts = True))\n",
    "clean_data = clean_data.query(\"goes_class_ind != 'A'\")\n",
    "print(np.unique(clean_data.goes_class_ind, return_counts = True))\n",
    "print(clean_data.shape)\n",
    "print(np.sum(clean_data.isna()))\n",
    "clean_data = clean_data.dropna(axis = 0, subset=['corr_whole_spot_area']).reset_index()\n",
    "print()\n",
    "print(\"not a substantial difference in dataset after removing missing data:\")\n",
    "print(np.unique(clean_data.goes_class_ind, return_counts = True))\n",
    "print(clean_data.shape)\n",
    "np.sum(clean_data.isna())\n"
   ]
  },
  {
   "cell_type": "markdown",
   "id": "f54748a3",
   "metadata": {},
   "source": [
    "## NOAA dataset data exploration \n",
    "visualisation of the distributions of dependant and independant features in the dataset"
   ]
  },
  {
   "cell_type": "code",
   "execution_count": 77,
   "id": "5e0ca5d7",
   "metadata": {},
   "outputs": [
    {
     "data": {
      "image/png": "[encoded data removed]",
      "text/plain": [
       "<Figure size 1440x720 with 1 Axes>"
      ]
     },
     "metadata": {},
     "output_type": "display_data"
    }
   ],
   "source": [
    "# Graphing Mcintosh classifications \n",
    "#clean_data['mcintosh'].value_counts().head(30).plot(kind='barh',figsize=(15,5), title = \"Counts of the 30 most frequent Mcintosh classifications within the dataset\")\n",
    "# Graphing Mcintosh evolutions\n",
    "clean_data['mcintosh_evolution'].value_counts().head(30).plot(kind='barh',color = \"lightblue\",xlim = (0,1100), figsize=(20,10), title = \"Counts of the 30 most frequent Mcintosh evolutions within the dataset\")\n",
    "# Other independant features \n",
    "#for column in clean_data.columns: \n",
    "    #sns.displot(data=clean_data, x= column, color = \"red\")\n",
    "plt.style.use('seaborn')\n",
    "\n",
    "# Solar flare frequency \n",
    "#clean_data['goes_class_ind'].value_counts().plot(kind='bar', figsize=(10,10), title = \"Solar flare frequency within dataset\", color = \"g\")"
   ]
  },
  {
   "cell_type": "code",
   "execution_count": 11,
   "id": "cfb6ab6e",
   "metadata": {},
   "outputs": [
    {
     "data": {
      "text/plain": [
       "<AxesSubplot:title={'center':'7 most frequent Mcintosh Evolutions within M/X class flares '}, ylabel='mcintosh_evolution'>"
      ]
     },
     "execution_count": 11,
     "metadata": {},
     "output_type": "execute_result"
    },
    {
     "data": {
      "image/png": "[encoded data removed]",
      "text/plain": [
       "<Figure size 720x720 with 1 Axes>"
      ]
     },
     "metadata": {},
     "output_type": "display_data"
    }
   ],
   "source": [
    "colours = [\"Crimson\", \"Blue\", \"BlueViolet\", \"Brown\", \"Green\", \"DeepPink\", \"DarkSeaGreen\" ]\n",
    "clean_data.query(\"goes_class_ind == 'M' or goes_class_ind == 'X' \")['mcintosh_evolution'].value_counts().head(7).plot(kind='pie', autopct='%1.1f%%', colors = colours, figsize=(10,10), title = \"7 most frequent Mcintosh Evolutions within M/X class flares \")"
   ]
  },
  {
   "cell_type": "code",
   "execution_count": 12,
   "id": "2ab92192",
   "metadata": {},
   "outputs": [
    {
     "data": {
      "text/plain": [
       "<AxesSubplot:title={'center':'7 most frequent Mcintosh Evolutions within B/C class flares '}, ylabel='mcintosh_evolution'>"
      ]
     },
     "execution_count": 12,
     "metadata": {},
     "output_type": "execute_result"
    },
    {
     "data": {
      "image/png": "[encoded data removed]",
      "text/plain": [
       "<Figure size 720x720 with 1 Axes>"
      ]
     },
     "metadata": {},
     "output_type": "display_data"
    }
   ],
   "source": [
    "colours = [ \"Blue\", \"Crimson\" ,\"OrangeRed\", \"Plum\", \"Peru\", \"Yellow\", \"CornflowerBlue\" ]\n",
    "clean_data.query(\"goes_class_ind == 'B' or goes_class_ind == 'C' \")['mcintosh_evolution'].value_counts().head(7).plot(kind='pie', figsize=(10,10),autopct='%1.1f%%', colors = colours, title = \"7 most frequent Mcintosh Evolutions within B/C class flares \")"
   ]
  },
  {
   "cell_type": "code",
   "execution_count": 17,
   "id": "546caf6f",
   "metadata": {},
   "outputs": [
    {
     "name": "stdout",
     "output_type": "stream",
     "text": [
      "725\n"
     ]
    },
    {
     "data": {
      "text/plain": [
       "475"
      ]
     },
     "execution_count": 17,
     "metadata": {},
     "output_type": "execute_result"
    }
   ],
   "source": [
    "print(len(np.unique(clean_data[\"mcintosh_evolution\"])))\n",
    "len(data_2.columns[16:])"
   ]
  },
  {
   "cell_type": "markdown",
   "id": "cf502fbe",
   "metadata": {},
   "source": [
    "## NOAA dataset exporting"
   ]
  },
  {
   "cell_type": "code",
   "execution_count": 33,
   "id": "9127119f",
   "metadata": {},
   "outputs": [],
   "source": [
    "## Create Mcintosh evolution dataset \n",
    "data_2 = clean_data.drop([\"mcintosh\"], axis = 1)\n",
    "data_2 = pd.concat([data_2, pd.get_dummies(data_2[\"greenwich\"]), pd.get_dummies(data_2[\"mcintosh_evolution\"])], axis = 1)\n",
    "data_2 = data_2.drop([\"mcintosh_evolution\", \"greenwich\"], axis = 1)\n",
    "# Get rid of hot encodes that are less than 1 in value (basically non existent)\n",
    "#data_2.drop([col for col, val in data_2.sum().iteritems() if type(val) != str and val < 3], axis=1, inplace=True)\n",
    "\n",
    "## Create normal dataset\n",
    "data_1 = clean_data.drop([\"mcintosh_evolution\"], axis = 1)\n",
    "data_1 = pd.concat([data_1, pd.get_dummies(data_1[\"greenwich\"]), pd.get_dummies(data_1[\"mcintosh\"])], axis = 1)\n",
    "data_1 = data_1.drop([\"mcintosh\", \"greenwich\"], axis = 1)"
   ]
  },
  {
   "cell_type": "code",
   "execution_count": 34,
   "id": "f1cd18af",
   "metadata": {},
   "outputs": [
    {
     "name": "stderr",
     "output_type": "stream",
     "text": [
      "C:\\Users\\user\\anaconda3\\envs\\py3-TF2.0\\lib\\site-packages\\ipykernel_launcher.py:7: SettingWithCopyWarning: \n",
      "A value is trying to be set on a copy of a slice from a DataFrame\n",
      "\n",
      "See the caveats in the documentation: https://pandas.pydata.org/pandas-docs/stable/user_guide/indexing.html#returning-a-view-versus-a-copy\n",
      "  import sys\n",
      "C:\\Users\\user\\anaconda3\\envs\\py3-TF2.0\\lib\\site-packages\\ipykernel_launcher.py:8: SettingWithCopyWarning: \n",
      "A value is trying to be set on a copy of a slice from a DataFrame\n",
      "\n",
      "See the caveats in the documentation: https://pandas.pydata.org/pandas-docs/stable/user_guide/indexing.html#returning-a-view-versus-a-copy\n",
      "  \n",
      "C:\\Users\\user\\anaconda3\\envs\\py3-TF2.0\\lib\\site-packages\\ipykernel_launcher.py:9: SettingWithCopyWarning: \n",
      "A value is trying to be set on a copy of a slice from a DataFrame\n",
      "\n",
      "See the caveats in the documentation: https://pandas.pydata.org/pandas-docs/stable/user_guide/indexing.html#returning-a-view-versus-a-copy\n",
      "  if __name__ == '__main__':\n",
      "C:\\Users\\user\\anaconda3\\envs\\py3-TF2.0\\lib\\site-packages\\ipykernel_launcher.py:10: SettingWithCopyWarning: \n",
      "A value is trying to be set on a copy of a slice from a DataFrame\n",
      "\n",
      "See the caveats in the documentation: https://pandas.pydata.org/pandas-docs/stable/user_guide/indexing.html#returning-a-view-versus-a-copy\n",
      "  # Remove the CWD from sys.path while we load stuff.\n"
     ]
    }
   ],
   "source": [
    "## Create C excluded and B excluded flare datasets \n",
    "data_c = data_1[(data_1.goes_class_ind != \"B\") ].copy()\n",
    "data_b = data_1[data_1.goes_class_ind != \"C\"].copy()\n",
    "data_evolution = data_2[(data_2.goes_class_ind != \"C\") ].copy()\n",
    "# Clean one more time before exporting \n",
    "for data in [data_1, data_c, data_b, data_evolution]: \n",
    "    data.goes_class_ind[data.goes_class_ind == \"B\"] = 0\n",
    "    data.goes_class_ind[data.goes_class_ind == \"C\"] = 0\n",
    "    data.goes_class_ind[data.goes_class_ind == \"X\"] = 1\n",
    "    data.goes_class_ind[data.goes_class_ind == \"M\"] = 1\n",
    "    data.set_index(data['matchtime'], inplace = True)\n",
    "    data.drop(['level_0', 'index', 'noaa_ar_no', 'matchtime','goes_class'], axis = 1, inplace = True)\n",
    "\n",
    "    "
   ]
  },
  {
   "cell_type": "code",
   "execution_count": 35,
   "id": "8131128e",
   "metadata": {
    "scrolled": true
   },
   "outputs": [],
   "source": [
    "## Export data \n",
    "for data, name in zip([data_1, data_c, data_b, data_evolution], [\"data_all\",\"data_only_c\", \"data_only_b\", \"data_evolution\"]):\n",
    "    # Split training and testing into before 2015 and after 2015\n",
    "    \n",
    "    X = np.array(data.drop([\"goes_class_ind\"], axis = 1))\n",
    "   \n",
    "    # Make sure all numerical values are from -1 to 1 \n",
    "    max_abs_scaler = preprocessing.MaxAbsScaler()\n",
    "    X = max_abs_scaler.fit_transform(X)\n",
    "    # Get feature index and y \n",
    "    feature_index = data.drop([\"goes_class_ind\"], axis = 1).columns \n",
    "    y = np.array(data.goes_class_ind).astype(\"int\")\n",
    "    X_train, X_test, y_train, y_test = train_test_split(X, y, test_size=0.2, random_state=42)\n",
    "\n",
    "\n",
    "    # Exporting data out \n",
    "    export = X_train, X_test, y_train, y_test, feature_index \n",
    "    pickle_out = open(\"clean_data/\" + name + \".pickle\", \"wb\")\n",
    "    pickle.dump(export, pickle_out)\n",
    "    pickle_out.close()"
   ]
  },
  {
   "cell_type": "markdown",
   "id": "851f744d",
   "metadata": {},
   "source": [
    "## SHARP data \n",
    "importing data"
   ]
  },
  {
   "cell_type": "code",
   "execution_count": 3,
   "id": "9de15a15",
   "metadata": {},
   "outputs": [],
   "source": [
    "raw_data = pd.read_csv(\"./Data import/SHARP_data_24.csv\")\n",
    "# for 48 hours:\n",
    "#raw_data = pd.read_csv(\"./Data import/SHARP_data_48.csv\")\n",
    "raw_data = raw_data.drop(['index', 'Unnamed: 0', 'year', 'month', 'day', 'noaa_ar_no','central_meridian_dist', 'latitude', 'carrington_longitude','corr_whole_spot_area', 'mcintosh', 'LL', 'number_of_spots','greenwich', 'original_central_meridian_dist', 'original_latitude','matchtime','goes_class', 'integrated_flux','noaa_ar', 'event_starttime', 'event_peaktime', 'event_endtime'], axis = 1)\n",
    "\n"
   ]
  },
  {
   "cell_type": "code",
   "execution_count": 6,
   "id": "5a33b53b",
   "metadata": {
    "scrolled": true
   },
   "outputs": [
    {
     "data": {
      "text/plain": [
       "Index(['index', 'goes_class_ind', 'ERRVF', 'CMASK', 'USFLUX', 'MEANGAM',\n",
       "       'ERRGAM', 'MEANGBT', 'ERRBT', 'MEANGBZ', 'ERRBZ', 'MEANGBH', 'ERRBH',\n",
       "       'MEANJZD', 'ERRJZ', 'TOTUSJZ', 'ERRUSI', 'MEANALP', 'ERRALP', 'MEANJZH',\n",
       "       'ERRMIH', 'TOTUSJH', 'ERRTUI', 'ABSNJZH', 'ERRTAI', 'SAVNCPP', 'ERRJHT',\n",
       "       'MEANPOT', 'ERRMPOT', 'TOTPOT', 'ERRTPOT', 'MEANSHR', 'ERRMSHA',\n",
       "       'SHRGT45', 'R_VALUE'],\n",
       "      dtype='object')"
      ]
     },
     "execution_count": 6,
     "metadata": {},
     "output_type": "execute_result"
    }
   ],
   "source": [
    "clean_data.columns"
   ]
  },
  {
   "cell_type": "code",
   "execution_count": 4,
   "id": "2444629f",
   "metadata": {},
   "outputs": [
    {
     "name": "stdout",
     "output_type": "stream",
     "text": [
      "(array(['B', 'C', 'M', 'X'], dtype=object), array([3806, 6068,  634,   42], dtype=int64))\n",
      "index                0\n",
      "goes_class_ind       0\n",
      "ERRVF             1085\n",
      "CMASK             1085\n",
      "USFLUX            1085\n",
      "MEANGAM           1104\n",
      "ERRGAM            1104\n",
      "MEANGBT           1103\n",
      "ERRBT             1103\n",
      "MEANGBZ           1103\n",
      "ERRBZ             1103\n",
      "MEANGBH           1103\n",
      "ERRBH             1103\n",
      "MEANJZD           1103\n",
      "ERRJZ             1103\n",
      "TOTUSJZ           1085\n",
      "ERRUSI            1085\n",
      "MEANALP           1103\n",
      "ERRALP            1103\n",
      "MEANJZH           1103\n",
      "ERRMIH            1103\n",
      "TOTUSJH           1085\n",
      "ERRTUI            1085\n",
      "ABSNJZH           1085\n",
      "ERRTAI            1085\n",
      "SAVNCPP           1085\n",
      "ERRJHT            1085\n",
      "MEANPOT           1103\n",
      "ERRMPOT           1103\n",
      "TOTPOT            1085\n",
      "ERRTPOT           1085\n",
      "MEANSHR           1139\n",
      "ERRMSHA           1103\n",
      "SHRGT45           1103\n",
      "R_VALUE           1085\n",
      "dtype: int64\n",
      "level_0            0\n",
      "index              0\n",
      "goes_class_ind     0\n",
      "ERRVF              0\n",
      "CMASK              0\n",
      "USFLUX             0\n",
      "MEANGAM            1\n",
      "ERRGAM             1\n",
      "MEANGBT            0\n",
      "ERRBT              0\n",
      "MEANGBZ            0\n",
      "ERRBZ              0\n",
      "MEANGBH            0\n",
      "ERRBH              0\n",
      "MEANJZD            0\n",
      "ERRJZ              0\n",
      "TOTUSJZ            0\n",
      "ERRUSI             0\n",
      "MEANALP            0\n",
      "ERRALP             0\n",
      "MEANJZH            0\n",
      "ERRMIH             0\n",
      "TOTUSJH            0\n",
      "ERRTUI             0\n",
      "ABSNJZH            0\n",
      "ERRTAI             0\n",
      "SAVNCPP            0\n",
      "ERRJHT             0\n",
      "MEANPOT            0\n",
      "ERRMPOT            0\n",
      "TOTPOT             0\n",
      "ERRTPOT            0\n",
      "MEANSHR           36\n",
      "ERRMSHA            0\n",
      "SHRGT45            0\n",
      "R_VALUE            0\n",
      "dtype: int64\n",
      "\n",
      "(array(['B', 'C', 'M', 'X'], dtype=object), array([3388, 5440,  581,   38], dtype=int64))\n"
     ]
    }
   ],
   "source": [
    "# Get rid of missing data\n",
    "clean_data = raw_data.dropna(axis = 0, subset=['goes_class_ind']).reset_index()\n",
    "clean_data = clean_data.query(\"goes_class_ind != 'A'\")\n",
    "print(np.unique(clean_data.goes_class_ind, return_counts = True))\n",
    "SHARP_data = clean_data.dropna(axis = 0, subset=['MEANJZH']).reset_index()\n",
    "print(np.sum(clean_data.isna()))\n",
    "print(np.sum(SHARP_data.isna()))\n",
    "print()\n",
    "print(np.unique(SHARP_data.goes_class_ind, return_counts = True))\n",
    "#print(\"not a substantial difference in dataset after removing missing data:\")\n",
    "#print(np.unique(clean_data.goes_class_ind, return_counts = True))\n",
    "#print(clean_data.shape)\n",
    "#np.sum(clean_data.isna())\n"
   ]
  },
  {
   "cell_type": "code",
   "execution_count": 7,
   "id": "a519b691",
   "metadata": {
    "scrolled": true
   },
   "outputs": [
    {
     "data": {
      "text/plain": [
       "<AxesSubplot:title={'center':'Solar flare frequency within the SHARP dataset'}>"
      ]
     },
     "execution_count": 7,
     "metadata": {},
     "output_type": "execute_result"
    },
    {
     "data": {
      "image/png": "[encoded data removed]",
      "text/plain": [
       "<Figure size 720x720 with 1 Axes>"
      ]
     },
     "metadata": {},
     "output_type": "display_data"
    }
   ],
   "source": [
    "plt.style.use('seaborn')\n",
    "\n",
    "#sns.displot(data=clean_data, x= \"MEANSHR\", color = \"red\")\n",
    "      \n",
    "# Solar flare frequency \n",
    "plt.ylim((0, 6000))\n",
    "SHARP_data['goes_class_ind'].value_counts().plot(kind='bar', figsize=(10,10), title = \"Solar flare frequency within the SHARP dataset\", color = \"g\")"
   ]
  },
  {
   "cell_type": "code",
   "execution_count": 56,
   "id": "13771d83",
   "metadata": {},
   "outputs": [
    {
     "data": {
      "text/plain": [
       "Index(['level_0', 'index', 'goes_class_ind', 'ERRVF', 'CMASK', 'USFLUX',\n",
       "       'MEANGAM', 'ERRGAM', 'MEANGBT', 'ERRBT', 'MEANGBZ', 'ERRBZ', 'MEANGBH',\n",
       "       'ERRBH', 'MEANJZD', 'ERRJZ', 'TOTUSJZ', 'ERRUSI', 'MEANALP', 'ERRALP',\n",
       "       'MEANJZH', 'ERRMIH', 'TOTUSJH', 'ERRTUI', 'ABSNJZH', 'ERRTAI',\n",
       "       'SAVNCPP', 'ERRJHT', 'MEANPOT', 'ERRMPOT', 'TOTPOT', 'ERRTPOT',\n",
       "       'MEANSHR', 'ERRMSHA', 'SHRGT45', 'R_VALUE'],\n",
       "      dtype='object')"
      ]
     },
     "execution_count": 56,
     "metadata": {},
     "output_type": "execute_result"
    }
   ],
   "source": [
    "SHARP_data.columns"
   ]
  },
  {
   "cell_type": "code",
   "execution_count": 61,
   "id": "13d7fede",
   "metadata": {},
   "outputs": [
    {
     "name": "stderr",
     "output_type": "stream",
     "text": [
      "C:\\Users\\user\\anaconda3\\envs\\py3-TF2.0\\lib\\site-packages\\ipykernel_launcher.py:9: SettingWithCopyWarning: \n",
      "A value is trying to be set on a copy of a slice from a DataFrame\n",
      "\n",
      "See the caveats in the documentation: https://pandas.pydata.org/pandas-docs/stable/user_guide/indexing.html#returning-a-view-versus-a-copy\n",
      "  if __name__ == '__main__':\n",
      "C:\\Users\\user\\anaconda3\\envs\\py3-TF2.0\\lib\\site-packages\\ipykernel_launcher.py:10: SettingWithCopyWarning: \n",
      "A value is trying to be set on a copy of a slice from a DataFrame\n",
      "\n",
      "See the caveats in the documentation: https://pandas.pydata.org/pandas-docs/stable/user_guide/indexing.html#returning-a-view-versus-a-copy\n",
      "  # Remove the CWD from sys.path while we load stuff.\n"
     ]
    }
   ],
   "source": [
    "\n",
    "values = {\"MEANSHR\": np.mean(clean_data[\"MEANSHR\"]), \"MEANGAM\": np.mean(clean_data[\"MEANGAM\"]), \"ERRGAM\":  np.mean(clean_data[\"ERRGAM\"])}\n",
    "SHARP_data = SHARP_data.fillna(values)\n",
    "SHARP_data = SHARP_data.dropna(axis = 1)\n",
    "SHARP_data = SHARP_data.replace([np.inf, -np.inf], np.nan)\n",
    "SHARP_data = SHARP_data.drop([\"index\", \"level_0\" ], axis = 1)\n",
    "SHARP_data = SHARP_data.dropna(axis = 0)#\n",
    "#SHARP_data = SHARP_data[SHARP_data.goes_class_ind != \"C\"].copy()\n",
    "SHARP_data.goes_class_ind[SHARP_data.goes_class_ind == \"B\"] = 0\n",
    "SHARP_data.goes_class_ind[SHARP_data.goes_class_ind == \"X\"] = 1\n",
    "SHARP_data.goes_class_ind[SHARP_data.goes_class_ind == \"M\"] = 1"
   ]
  },
  {
   "cell_type": "code",
   "execution_count": 25,
   "id": "c1294451",
   "metadata": {},
   "outputs": [],
   "source": [
    "for data, name in zip([SHARP_data], [\"SHARP_data_24\"]):\n",
    "    # Split training and testing into before 2015 and after 2015\n",
    "    \n",
    "    X = np.array(data.drop([\"goes_class_ind\"], axis = 1))\n",
    "   \n",
    "    # Make sure all numerical values are from -1 to 1 \n",
    "    max_abs_scaler = preprocessing.MaxAbsScaler()\n",
    "    X = max_abs_scaler.fit_transform(X)\n",
    "    # Get feature index and y \n",
    "    feature_index = data.drop([\"goes_class_ind\"], axis = 1).columns \n",
    "    y = np.array(data.goes_class_ind).astype(\"int\")\n",
    "    X_train, X_test, y_train, y_test = train_test_split(X, y, test_size=0.2, random_state=42)\n",
    "\n",
    "\n",
    "    # Exporting data out \n",
    "    export = X_train, X_test, y_train, y_test, feature_index \n",
    "    pickle_out = open(\"clean_data/\" + name + \".pickle\", \"wb\")\n",
    "    pickle.dump(export, pickle_out)\n",
    "    pickle_out.close()"
   ]
  },
  {
   "cell_type": "code",
   "execution_count": 62,
   "id": "a367acd3",
   "metadata": {},
   "outputs": [
    {
     "data": {
      "text/html": [
       "<div>\n",
       "<style scoped>\n",
       "    .dataframe tbody tr th:only-of-type {\n",
       "        vertical-align: middle;\n",
       "    }\n",
       "\n",
       "    .dataframe tbody tr th {\n",
       "        vertical-align: top;\n",
       "    }\n",
       "\n",
       "    .dataframe thead th {\n",
       "        text-align: right;\n",
       "    }\n",
       "</style>\n",
       "<table border=\"1\" class=\"dataframe\">\n",
       "  <thead>\n",
       "    <tr style=\"text-align: right;\">\n",
       "      <th></th>\n",
       "      <th>goes_class_ind</th>\n",
       "      <th>ERRVF</th>\n",
       "      <th>CMASK</th>\n",
       "      <th>USFLUX</th>\n",
       "      <th>MEANGAM</th>\n",
       "      <th>ERRGAM</th>\n",
       "      <th>MEANGBT</th>\n",
       "      <th>ERRBT</th>\n",
       "      <th>MEANGBZ</th>\n",
       "      <th>ERRBZ</th>\n",
       "      <th>...</th>\n",
       "      <th>SAVNCPP</th>\n",
       "      <th>ERRJHT</th>\n",
       "      <th>MEANPOT</th>\n",
       "      <th>ERRMPOT</th>\n",
       "      <th>TOTPOT</th>\n",
       "      <th>ERRTPOT</th>\n",
       "      <th>MEANSHR</th>\n",
       "      <th>ERRMSHA</th>\n",
       "      <th>SHRGT45</th>\n",
       "      <th>R_VALUE</th>\n",
       "    </tr>\n",
       "  </thead>\n",
       "  <tbody>\n",
       "    <tr>\n",
       "      <th>0</th>\n",
       "      <td>0</td>\n",
       "      <td>1.649361e+18</td>\n",
       "      <td>2683.0</td>\n",
       "      <td>1.851209e+21</td>\n",
       "      <td>43.219</td>\n",
       "      <td>0.067</td>\n",
       "      <td>155.267</td>\n",
       "      <td>0.409</td>\n",
       "      <td>155.670</td>\n",
       "      <td>0.329</td>\n",
       "      <td>...</td>\n",
       "      <td>3.322235e+12</td>\n",
       "      <td>2.202908e+11</td>\n",
       "      <td>4537.476</td>\n",
       "      <td>19.162790</td>\n",
       "      <td>1.616767e+22</td>\n",
       "      <td>6.827976e+19</td>\n",
       "      <td>30.748</td>\n",
       "      <td>0.016</td>\n",
       "      <td>16.362</td>\n",
       "      <td>3.510</td>\n",
       "    </tr>\n",
       "    <tr>\n",
       "      <th>1</th>\n",
       "      <td>0</td>\n",
       "      <td>1.211683e+18</td>\n",
       "      <td>809.0</td>\n",
       "      <td>5.082311e+20</td>\n",
       "      <td>27.926</td>\n",
       "      <td>0.178</td>\n",
       "      <td>120.135</td>\n",
       "      <td>0.828</td>\n",
       "      <td>119.714</td>\n",
       "      <td>0.809</td>\n",
       "      <td>...</td>\n",
       "      <td>3.118513e+11</td>\n",
       "      <td>1.190365e+11</td>\n",
       "      <td>1712.692</td>\n",
       "      <td>19.054300</td>\n",
       "      <td>1.840096e+21</td>\n",
       "      <td>2.047171e+19</td>\n",
       "      <td>23.466</td>\n",
       "      <td>0.287</td>\n",
       "      <td>3.214</td>\n",
       "      <td>0.000</td>\n",
       "    </tr>\n",
       "    <tr>\n",
       "      <th>2</th>\n",
       "      <td>C</td>\n",
       "      <td>1.050143e+18</td>\n",
       "      <td>664.0</td>\n",
       "      <td>4.287361e+20</td>\n",
       "      <td>26.846</td>\n",
       "      <td>0.169</td>\n",
       "      <td>116.500</td>\n",
       "      <td>0.874</td>\n",
       "      <td>116.319</td>\n",
       "      <td>0.859</td>\n",
       "      <td>...</td>\n",
       "      <td>1.153920e+11</td>\n",
       "      <td>1.036230e+11</td>\n",
       "      <td>1788.641</td>\n",
       "      <td>20.219760</td>\n",
       "      <td>1.577262e+21</td>\n",
       "      <td>1.783023e+19</td>\n",
       "      <td>22.735</td>\n",
       "      <td>0.361</td>\n",
       "      <td>2.560</td>\n",
       "      <td>0.000</td>\n",
       "    </tr>\n",
       "    <tr>\n",
       "      <th>3</th>\n",
       "      <td>0</td>\n",
       "      <td>8.245620e+17</td>\n",
       "      <td>645.0</td>\n",
       "      <td>3.963334e+20</td>\n",
       "      <td>27.538</td>\n",
       "      <td>0.139</td>\n",
       "      <td>106.057</td>\n",
       "      <td>0.700</td>\n",
       "      <td>103.996</td>\n",
       "      <td>0.692</td>\n",
       "      <td>...</td>\n",
       "      <td>1.760098e+11</td>\n",
       "      <td>7.956555e+10</td>\n",
       "      <td>1644.526</td>\n",
       "      <td>16.083570</td>\n",
       "      <td>1.408682e+21</td>\n",
       "      <td>1.377700e+19</td>\n",
       "      <td>23.236</td>\n",
       "      <td>0.184</td>\n",
       "      <td>2.481</td>\n",
       "      <td>0.000</td>\n",
       "    </tr>\n",
       "    <tr>\n",
       "      <th>4</th>\n",
       "      <td>C</td>\n",
       "      <td>8.756110e+17</td>\n",
       "      <td>932.0</td>\n",
       "      <td>5.256552e+20</td>\n",
       "      <td>27.310</td>\n",
       "      <td>0.110</td>\n",
       "      <td>105.125</td>\n",
       "      <td>0.514</td>\n",
       "      <td>103.603</td>\n",
       "      <td>0.508</td>\n",
       "      <td>...</td>\n",
       "      <td>2.233142e+11</td>\n",
       "      <td>8.387223e+10</td>\n",
       "      <td>1456.952</td>\n",
       "      <td>11.446790</td>\n",
       "      <td>1.803324e+21</td>\n",
       "      <td>1.416813e+19</td>\n",
       "      <td>23.617</td>\n",
       "      <td>0.231</td>\n",
       "      <td>2.039</td>\n",
       "      <td>0.000</td>\n",
       "    </tr>\n",
       "    <tr>\n",
       "      <th>...</th>\n",
       "      <td>...</td>\n",
       "      <td>...</td>\n",
       "      <td>...</td>\n",
       "      <td>...</td>\n",
       "      <td>...</td>\n",
       "      <td>...</td>\n",
       "      <td>...</td>\n",
       "      <td>...</td>\n",
       "      <td>...</td>\n",
       "      <td>...</td>\n",
       "      <td>...</td>\n",
       "      <td>...</td>\n",
       "      <td>...</td>\n",
       "      <td>...</td>\n",
       "      <td>...</td>\n",
       "      <td>...</td>\n",
       "      <td>...</td>\n",
       "      <td>...</td>\n",
       "      <td>...</td>\n",
       "      <td>...</td>\n",
       "      <td>...</td>\n",
       "    </tr>\n",
       "    <tr>\n",
       "      <th>8767</th>\n",
       "      <td>0</td>\n",
       "      <td>6.617472e+17</td>\n",
       "      <td>556.0</td>\n",
       "      <td>1.647684e+20</td>\n",
       "      <td>66.132</td>\n",
       "      <td>0.237</td>\n",
       "      <td>92.661</td>\n",
       "      <td>1.577</td>\n",
       "      <td>91.047</td>\n",
       "      <td>0.644</td>\n",
       "      <td>...</td>\n",
       "      <td>1.375425e+11</td>\n",
       "      <td>1.776860e+11</td>\n",
       "      <td>2625.360</td>\n",
       "      <td>54.939700</td>\n",
       "      <td>1.938547e+21</td>\n",
       "      <td>4.056708e+19</td>\n",
       "      <td>51.656</td>\n",
       "      <td>0.031</td>\n",
       "      <td>57.014</td>\n",
       "      <td>0.000</td>\n",
       "    </tr>\n",
       "    <tr>\n",
       "      <th>8768</th>\n",
       "      <td>0</td>\n",
       "      <td>9.697857e+17</td>\n",
       "      <td>966.0</td>\n",
       "      <td>4.976828e+20</td>\n",
       "      <td>55.638</td>\n",
       "      <td>0.140</td>\n",
       "      <td>131.062</td>\n",
       "      <td>0.951</td>\n",
       "      <td>127.864</td>\n",
       "      <td>0.535</td>\n",
       "      <td>...</td>\n",
       "      <td>2.536799e+11</td>\n",
       "      <td>2.212919e+11</td>\n",
       "      <td>3763.418</td>\n",
       "      <td>47.321270</td>\n",
       "      <td>4.828054e+21</td>\n",
       "      <td>6.070801e+19</td>\n",
       "      <td>37.070</td>\n",
       "      <td>0.011</td>\n",
       "      <td>30.228</td>\n",
       "      <td>2.595</td>\n",
       "    </tr>\n",
       "    <tr>\n",
       "      <th>8769</th>\n",
       "      <td>0</td>\n",
       "      <td>7.187704e+17</td>\n",
       "      <td>92.0</td>\n",
       "      <td>9.525501e+19</td>\n",
       "      <td>16.520</td>\n",
       "      <td>0.438</td>\n",
       "      <td>128.041</td>\n",
       "      <td>3.967</td>\n",
       "      <td>178.350</td>\n",
       "      <td>4.136</td>\n",
       "      <td>...</td>\n",
       "      <td>2.325784e+11</td>\n",
       "      <td>4.449592e+10</td>\n",
       "      <td>4995.128</td>\n",
       "      <td>125.751300</td>\n",
       "      <td>6.103052e+20</td>\n",
       "      <td>1.536430e+19</td>\n",
       "      <td>17.367</td>\n",
       "      <td>0.763</td>\n",
       "      <td>7.609</td>\n",
       "      <td>2.533</td>\n",
       "    </tr>\n",
       "    <tr>\n",
       "      <th>8770</th>\n",
       "      <td>0</td>\n",
       "      <td>3.397996e+18</td>\n",
       "      <td>8613.0</td>\n",
       "      <td>5.161003e+21</td>\n",
       "      <td>45.246</td>\n",
       "      <td>0.045</td>\n",
       "      <td>124.459</td>\n",
       "      <td>0.247</td>\n",
       "      <td>124.739</td>\n",
       "      <td>0.212</td>\n",
       "      <td>...</td>\n",
       "      <td>3.200914e+12</td>\n",
       "      <td>3.923535e+11</td>\n",
       "      <td>4475.562</td>\n",
       "      <td>11.647300</td>\n",
       "      <td>5.119347e+22</td>\n",
       "      <td>1.332270e+20</td>\n",
       "      <td>35.206</td>\n",
       "      <td>0.006</td>\n",
       "      <td>26.599</td>\n",
       "      <td>3.930</td>\n",
       "    </tr>\n",
       "    <tr>\n",
       "      <th>8771</th>\n",
       "      <td>0</td>\n",
       "      <td>4.005380e+18</td>\n",
       "      <td>11244.0</td>\n",
       "      <td>7.633006e+21</td>\n",
       "      <td>33.973</td>\n",
       "      <td>0.034</td>\n",
       "      <td>99.072</td>\n",
       "      <td>0.186</td>\n",
       "      <td>100.807</td>\n",
       "      <td>0.190</td>\n",
       "      <td>...</td>\n",
       "      <td>5.416200e+11</td>\n",
       "      <td>3.172056e+11</td>\n",
       "      <td>3583.772</td>\n",
       "      <td>7.570198</td>\n",
       "      <td>5.351478e+22</td>\n",
       "      <td>1.130422e+20</td>\n",
       "      <td>28.223</td>\n",
       "      <td>0.002</td>\n",
       "      <td>11.571</td>\n",
       "      <td>3.722</td>\n",
       "    </tr>\n",
       "  </tbody>\n",
       "</table>\n",
       "<p>8751 rows × 34 columns</p>\n",
       "</div>"
      ],
      "text/plain": [
       "     goes_class_ind         ERRVF    CMASK        USFLUX  MEANGAM  ERRGAM  \\\n",
       "0                 0  1.649361e+18   2683.0  1.851209e+21   43.219   0.067   \n",
       "1                 0  1.211683e+18    809.0  5.082311e+20   27.926   0.178   \n",
       "2                 C  1.050143e+18    664.0  4.287361e+20   26.846   0.169   \n",
       "3                 0  8.245620e+17    645.0  3.963334e+20   27.538   0.139   \n",
       "4                 C  8.756110e+17    932.0  5.256552e+20   27.310   0.110   \n",
       "...             ...           ...      ...           ...      ...     ...   \n",
       "8767              0  6.617472e+17    556.0  1.647684e+20   66.132   0.237   \n",
       "8768              0  9.697857e+17    966.0  4.976828e+20   55.638   0.140   \n",
       "8769              0  7.187704e+17     92.0  9.525501e+19   16.520   0.438   \n",
       "8770              0  3.397996e+18   8613.0  5.161003e+21   45.246   0.045   \n",
       "8771              0  4.005380e+18  11244.0  7.633006e+21   33.973   0.034   \n",
       "\n",
       "      MEANGBT  ERRBT  MEANGBZ  ERRBZ  ...       SAVNCPP        ERRJHT  \\\n",
       "0     155.267  0.409  155.670  0.329  ...  3.322235e+12  2.202908e+11   \n",
       "1     120.135  0.828  119.714  0.809  ...  3.118513e+11  1.190365e+11   \n",
       "2     116.500  0.874  116.319  0.859  ...  1.153920e+11  1.036230e+11   \n",
       "3     106.057  0.700  103.996  0.692  ...  1.760098e+11  7.956555e+10   \n",
       "4     105.125  0.514  103.603  0.508  ...  2.233142e+11  8.387223e+10   \n",
       "...       ...    ...      ...    ...  ...           ...           ...   \n",
       "8767   92.661  1.577   91.047  0.644  ...  1.375425e+11  1.776860e+11   \n",
       "8768  131.062  0.951  127.864  0.535  ...  2.536799e+11  2.212919e+11   \n",
       "8769  128.041  3.967  178.350  4.136  ...  2.325784e+11  4.449592e+10   \n",
       "8770  124.459  0.247  124.739  0.212  ...  3.200914e+12  3.923535e+11   \n",
       "8771   99.072  0.186  100.807  0.190  ...  5.416200e+11  3.172056e+11   \n",
       "\n",
       "       MEANPOT     ERRMPOT        TOTPOT       ERRTPOT  MEANSHR  ERRMSHA  \\\n",
       "0     4537.476   19.162790  1.616767e+22  6.827976e+19   30.748    0.016   \n",
       "1     1712.692   19.054300  1.840096e+21  2.047171e+19   23.466    0.287   \n",
       "2     1788.641   20.219760  1.577262e+21  1.783023e+19   22.735    0.361   \n",
       "3     1644.526   16.083570  1.408682e+21  1.377700e+19   23.236    0.184   \n",
       "4     1456.952   11.446790  1.803324e+21  1.416813e+19   23.617    0.231   \n",
       "...        ...         ...           ...           ...      ...      ...   \n",
       "8767  2625.360   54.939700  1.938547e+21  4.056708e+19   51.656    0.031   \n",
       "8768  3763.418   47.321270  4.828054e+21  6.070801e+19   37.070    0.011   \n",
       "8769  4995.128  125.751300  6.103052e+20  1.536430e+19   17.367    0.763   \n",
       "8770  4475.562   11.647300  5.119347e+22  1.332270e+20   35.206    0.006   \n",
       "8771  3583.772    7.570198  5.351478e+22  1.130422e+20   28.223    0.002   \n",
       "\n",
       "      SHRGT45  R_VALUE  \n",
       "0      16.362    3.510  \n",
       "1       3.214    0.000  \n",
       "2       2.560    0.000  \n",
       "3       2.481    0.000  \n",
       "4       2.039    0.000  \n",
       "...       ...      ...  \n",
       "8767   57.014    0.000  \n",
       "8768   30.228    2.595  \n",
       "8769    7.609    2.533  \n",
       "8770   26.599    3.930  \n",
       "8771   11.571    3.722  \n",
       "\n",
       "[8751 rows x 34 columns]"
      ]
     },
     "execution_count": 62,
     "metadata": {},
     "output_type": "execute_result"
    }
   ],
   "source": [
    "SHARP_data"
   ]
  }
 ],
 "metadata": {
  "kernelspec": {
   "display_name": "Python [conda env:py3-TF2.0] *",
   "language": "python",
   "name": "conda-env-py3-TF2.0-py"
  },
  "language_info": {
   "codemirror_mode": {
    "name": "ipython",
    "version": 3
   },
   "file_extension": ".py",
   "mimetype": "text/x-python",
   "name": "python",
   "nbconvert_exporter": "python",
   "pygments_lexer": "ipython3",
   "version": "3.7.10"
  }
 },
 "nbformat": 4,
 "nbformat_minor": 5
}
