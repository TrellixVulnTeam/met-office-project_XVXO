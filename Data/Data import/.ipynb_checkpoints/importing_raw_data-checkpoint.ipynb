{
 "cells": [
  {
   "cell_type": "code",
   "execution_count": 44,
   "id": "81f3cca0",
   "metadata": {},
   "outputs": [],
   "source": [
    "## 1. Merge active regions database with the solar flare reports \n",
    "%run merging_ar_flarelist.py"
   ]
  },
  {
   "cell_type": "code",
   "execution_count": 37,
   "id": "7e5f5112",
   "metadata": {},
   "outputs": [],
   "source": [
    "## 2. Get SHARP paramters and attach to the other database to get the final database \n",
    "%run adding_SHARP_parameters.py\n"
   ]
  }
 ],
 "metadata": {
  "kernelspec": {
   "display_name": "Python [conda env:py3-TF2.0]",
   "language": "python",
   "name": "conda-env-py3-TF2.0-py"
  },
  "language_info": {
   "codemirror_mode": {
    "name": "ipython",
    "version": 3
   },
   "file_extension": ".py",
   "mimetype": "text/x-python",
   "name": "python",
   "nbconvert_exporter": "python",
   "pygments_lexer": "ipython3",
   "version": "3.7.10"
  }
 },
 "nbformat": 4,
 "nbformat_minor": 5
}
